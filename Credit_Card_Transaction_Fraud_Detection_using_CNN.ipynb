{
  "nbformat": 4,
  "nbformat_minor": 0,
  "metadata": {
    "colab": {
      "name": "Credit Card Transaction Fraud Detection using CNN.ipynb",
      "provenance": [],
      "mount_file_id": "19mwK9EqTIGiyKTQhOYGGYf87KPcAsgiK",
      "authorship_tag": "ABX9TyOmotZgv8twg/plb+QFPbwO",
      "include_colab_link": true
    },
    "kernelspec": {
      "name": "python3",
      "display_name": "Python 3"
    },
    "accelerator": "GPU"
  },
  "cells": [
    {
      "cell_type": "markdown",
      "metadata": {
        "id": "view-in-github",
        "colab_type": "text"
      },
      "source": [
        "<a href=\"https://colab.research.google.com/github/Amenasetheru/Credit-Card-Transaction-Fraud-Detection-using-CNN/blob/master/Credit_Card_Transaction_Fraud_Detection_using_CNN.ipynb\" target=\"_parent\"><img src=\"https://colab.research.google.com/assets/colab-badge.svg\" alt=\"Open In Colab\"/></a>"
      ]
    },
    {
      "cell_type": "markdown",
      "metadata": {
        "id": "Fuz9Nfb8nF-f",
        "colab_type": "text"
      },
      "source": [
        "# **Credit Card Transaction Fraud Detection using CNN**"
      ]
    },
    {
      "cell_type": "code",
      "metadata": {
        "id": "oxKP2yp9Y1Mt",
        "colab_type": "code",
        "colab": {}
      },
      "source": [
        ""
      ],
      "execution_count": null,
      "outputs": []
    },
    {
      "cell_type": "markdown",
      "metadata": {
        "id": "kr7BvbQbqFVB",
        "colab_type": "text"
      },
      "source": [
        "**Import Denpencies**"
      ]
    },
    {
      "cell_type": "code",
      "metadata": {
        "id": "fN-Ez0yBmfvi",
        "colab_type": "code",
        "colab": {
          "base_uri": "https://localhost:8080/",
          "height": 71
        },
        "outputId": "5e2eeed7-7b7a-406a-ec45-d2b90029b8c5"
      },
      "source": [
        "import numpy as np\n",
        "import pandas as pd\n",
        "import seaborn as sns\n",
        "import matplotlib.pyplot as plt\n",
        "from sklearn.model_selection import train_test_split\n",
        "from sklearn.preprocessing import StandardScaler\n",
        "import tensorflow as tf\n",
        "from tensorflow import keras\n",
        "from tensorflow.keras.models import Sequential\n",
        "from tensorflow.keras.layers import Conv1D, MaxPool1D\n",
        "from tensorflow.keras.layers import Dense, Flatten\n",
        "from tensorflow.keras.layers import Dropout, BatchNormalization"
      ],
      "execution_count": null,
      "outputs": [
        {
          "output_type": "stream",
          "text": [
            "/usr/local/lib/python3.6/dist-packages/statsmodels/tools/_testing.py:19: FutureWarning: pandas.util.testing is deprecated. Use the functions in the public API at pandas.testing instead.\n",
            "  import pandas.util.testing as tm\n"
          ],
          "name": "stderr"
        }
      ]
    },
    {
      "cell_type": "code",
      "metadata": {
        "id": "CgBjXVG5qGDM",
        "colab_type": "code",
        "colab": {}
      },
      "source": [
        "# Download the Dataset\n",
        "data = pd.read_csv(\"/content/drive/My Drive/Colab Notebooks/CNN Credit Card Transaction Fraud Detection/creditcard 2.csv\")"
      ],
      "execution_count": null,
      "outputs": []
    },
    {
      "cell_type": "code",
      "metadata": {
        "id": "2CSC8s0AqHmz",
        "colab_type": "code",
        "colab": {
          "base_uri": "https://localhost:8080/",
          "height": 224
        },
        "outputId": "c73ba5bc-af43-44f1-a3ef-fb2fb12afa5d"
      },
      "source": [
        "data.head()"
      ],
      "execution_count": null,
      "outputs": [
        {
          "output_type": "execute_result",
          "data": {
            "text/html": [
              "<div>\n",
              "<style scoped>\n",
              "    .dataframe tbody tr th:only-of-type {\n",
              "        vertical-align: middle;\n",
              "    }\n",
              "\n",
              "    .dataframe tbody tr th {\n",
              "        vertical-align: top;\n",
              "    }\n",
              "\n",
              "    .dataframe thead th {\n",
              "        text-align: right;\n",
              "    }\n",
              "</style>\n",
              "<table border=\"1\" class=\"dataframe\">\n",
              "  <thead>\n",
              "    <tr style=\"text-align: right;\">\n",
              "      <th></th>\n",
              "      <th>Time</th>\n",
              "      <th>V1</th>\n",
              "      <th>V2</th>\n",
              "      <th>V3</th>\n",
              "      <th>V4</th>\n",
              "      <th>V5</th>\n",
              "      <th>V6</th>\n",
              "      <th>V7</th>\n",
              "      <th>V8</th>\n",
              "      <th>V9</th>\n",
              "      <th>V10</th>\n",
              "      <th>V11</th>\n",
              "      <th>V12</th>\n",
              "      <th>V13</th>\n",
              "      <th>V14</th>\n",
              "      <th>V15</th>\n",
              "      <th>V16</th>\n",
              "      <th>V17</th>\n",
              "      <th>V18</th>\n",
              "      <th>V19</th>\n",
              "      <th>V20</th>\n",
              "      <th>V21</th>\n",
              "      <th>V22</th>\n",
              "      <th>V23</th>\n",
              "      <th>V24</th>\n",
              "      <th>V25</th>\n",
              "      <th>V26</th>\n",
              "      <th>V27</th>\n",
              "      <th>V28</th>\n",
              "      <th>Amount</th>\n",
              "      <th>Class</th>\n",
              "    </tr>\n",
              "  </thead>\n",
              "  <tbody>\n",
              "    <tr>\n",
              "      <th>0</th>\n",
              "      <td>0.0</td>\n",
              "      <td>-1.359807</td>\n",
              "      <td>-0.072781</td>\n",
              "      <td>2.536347</td>\n",
              "      <td>1.378155</td>\n",
              "      <td>-0.338321</td>\n",
              "      <td>0.462388</td>\n",
              "      <td>0.239599</td>\n",
              "      <td>0.098698</td>\n",
              "      <td>0.363787</td>\n",
              "      <td>0.090794</td>\n",
              "      <td>-0.551600</td>\n",
              "      <td>-0.617801</td>\n",
              "      <td>-0.991390</td>\n",
              "      <td>-0.311169</td>\n",
              "      <td>1.468177</td>\n",
              "      <td>-0.470401</td>\n",
              "      <td>0.207971</td>\n",
              "      <td>0.025791</td>\n",
              "      <td>0.403993</td>\n",
              "      <td>0.251412</td>\n",
              "      <td>-0.018307</td>\n",
              "      <td>0.277838</td>\n",
              "      <td>-0.110474</td>\n",
              "      <td>0.066928</td>\n",
              "      <td>0.128539</td>\n",
              "      <td>-0.189115</td>\n",
              "      <td>0.133558</td>\n",
              "      <td>-0.021053</td>\n",
              "      <td>149.62</td>\n",
              "      <td>0</td>\n",
              "    </tr>\n",
              "    <tr>\n",
              "      <th>1</th>\n",
              "      <td>0.0</td>\n",
              "      <td>1.191857</td>\n",
              "      <td>0.266151</td>\n",
              "      <td>0.166480</td>\n",
              "      <td>0.448154</td>\n",
              "      <td>0.060018</td>\n",
              "      <td>-0.082361</td>\n",
              "      <td>-0.078803</td>\n",
              "      <td>0.085102</td>\n",
              "      <td>-0.255425</td>\n",
              "      <td>-0.166974</td>\n",
              "      <td>1.612727</td>\n",
              "      <td>1.065235</td>\n",
              "      <td>0.489095</td>\n",
              "      <td>-0.143772</td>\n",
              "      <td>0.635558</td>\n",
              "      <td>0.463917</td>\n",
              "      <td>-0.114805</td>\n",
              "      <td>-0.183361</td>\n",
              "      <td>-0.145783</td>\n",
              "      <td>-0.069083</td>\n",
              "      <td>-0.225775</td>\n",
              "      <td>-0.638672</td>\n",
              "      <td>0.101288</td>\n",
              "      <td>-0.339846</td>\n",
              "      <td>0.167170</td>\n",
              "      <td>0.125895</td>\n",
              "      <td>-0.008983</td>\n",
              "      <td>0.014724</td>\n",
              "      <td>2.69</td>\n",
              "      <td>0</td>\n",
              "    </tr>\n",
              "    <tr>\n",
              "      <th>2</th>\n",
              "      <td>1.0</td>\n",
              "      <td>-1.358354</td>\n",
              "      <td>-1.340163</td>\n",
              "      <td>1.773209</td>\n",
              "      <td>0.379780</td>\n",
              "      <td>-0.503198</td>\n",
              "      <td>1.800499</td>\n",
              "      <td>0.791461</td>\n",
              "      <td>0.247676</td>\n",
              "      <td>-1.514654</td>\n",
              "      <td>0.207643</td>\n",
              "      <td>0.624501</td>\n",
              "      <td>0.066084</td>\n",
              "      <td>0.717293</td>\n",
              "      <td>-0.165946</td>\n",
              "      <td>2.345865</td>\n",
              "      <td>-2.890083</td>\n",
              "      <td>1.109969</td>\n",
              "      <td>-0.121359</td>\n",
              "      <td>-2.261857</td>\n",
              "      <td>0.524980</td>\n",
              "      <td>0.247998</td>\n",
              "      <td>0.771679</td>\n",
              "      <td>0.909412</td>\n",
              "      <td>-0.689281</td>\n",
              "      <td>-0.327642</td>\n",
              "      <td>-0.139097</td>\n",
              "      <td>-0.055353</td>\n",
              "      <td>-0.059752</td>\n",
              "      <td>378.66</td>\n",
              "      <td>0</td>\n",
              "    </tr>\n",
              "    <tr>\n",
              "      <th>3</th>\n",
              "      <td>1.0</td>\n",
              "      <td>-0.966272</td>\n",
              "      <td>-0.185226</td>\n",
              "      <td>1.792993</td>\n",
              "      <td>-0.863291</td>\n",
              "      <td>-0.010309</td>\n",
              "      <td>1.247203</td>\n",
              "      <td>0.237609</td>\n",
              "      <td>0.377436</td>\n",
              "      <td>-1.387024</td>\n",
              "      <td>-0.054952</td>\n",
              "      <td>-0.226487</td>\n",
              "      <td>0.178228</td>\n",
              "      <td>0.507757</td>\n",
              "      <td>-0.287924</td>\n",
              "      <td>-0.631418</td>\n",
              "      <td>-1.059647</td>\n",
              "      <td>-0.684093</td>\n",
              "      <td>1.965775</td>\n",
              "      <td>-1.232622</td>\n",
              "      <td>-0.208038</td>\n",
              "      <td>-0.108300</td>\n",
              "      <td>0.005274</td>\n",
              "      <td>-0.190321</td>\n",
              "      <td>-1.175575</td>\n",
              "      <td>0.647376</td>\n",
              "      <td>-0.221929</td>\n",
              "      <td>0.062723</td>\n",
              "      <td>0.061458</td>\n",
              "      <td>123.50</td>\n",
              "      <td>0</td>\n",
              "    </tr>\n",
              "    <tr>\n",
              "      <th>4</th>\n",
              "      <td>2.0</td>\n",
              "      <td>-1.158233</td>\n",
              "      <td>0.877737</td>\n",
              "      <td>1.548718</td>\n",
              "      <td>0.403034</td>\n",
              "      <td>-0.407193</td>\n",
              "      <td>0.095921</td>\n",
              "      <td>0.592941</td>\n",
              "      <td>-0.270533</td>\n",
              "      <td>0.817739</td>\n",
              "      <td>0.753074</td>\n",
              "      <td>-0.822843</td>\n",
              "      <td>0.538196</td>\n",
              "      <td>1.345852</td>\n",
              "      <td>-1.119670</td>\n",
              "      <td>0.175121</td>\n",
              "      <td>-0.451449</td>\n",
              "      <td>-0.237033</td>\n",
              "      <td>-0.038195</td>\n",
              "      <td>0.803487</td>\n",
              "      <td>0.408542</td>\n",
              "      <td>-0.009431</td>\n",
              "      <td>0.798278</td>\n",
              "      <td>-0.137458</td>\n",
              "      <td>0.141267</td>\n",
              "      <td>-0.206010</td>\n",
              "      <td>0.502292</td>\n",
              "      <td>0.219422</td>\n",
              "      <td>0.215153</td>\n",
              "      <td>69.99</td>\n",
              "      <td>0</td>\n",
              "    </tr>\n",
              "  </tbody>\n",
              "</table>\n",
              "</div>"
            ],
            "text/plain": [
              "   Time        V1        V2        V3  ...       V27       V28  Amount  Class\n",
              "0   0.0 -1.359807 -0.072781  2.536347  ...  0.133558 -0.021053  149.62      0\n",
              "1   0.0  1.191857  0.266151  0.166480  ... -0.008983  0.014724    2.69      0\n",
              "2   1.0 -1.358354 -1.340163  1.773209  ... -0.055353 -0.059752  378.66      0\n",
              "3   1.0 -0.966272 -0.185226  1.792993  ...  0.062723  0.061458  123.50      0\n",
              "4   2.0 -1.158233  0.877737  1.548718  ...  0.219422  0.215153   69.99      0\n",
              "\n",
              "[5 rows x 31 columns]"
            ]
          },
          "metadata": {
            "tags": []
          },
          "execution_count": 3
        }
      ]
    },
    {
      "cell_type": "code",
      "metadata": {
        "id": "-QFSrXQsqHjQ",
        "colab_type": "code",
        "colab": {
          "base_uri": "https://localhost:8080/",
          "height": 34
        },
        "outputId": "925713db-9d15-42b2-cc40-b7a70f79f824"
      },
      "source": [
        "data.shape"
      ],
      "execution_count": null,
      "outputs": [
        {
          "output_type": "execute_result",
          "data": {
            "text/plain": [
              "(284807, 31)"
            ]
          },
          "metadata": {
            "tags": []
          },
          "execution_count": 4
        }
      ]
    },
    {
      "cell_type": "code",
      "metadata": {
        "id": "ncma5HmUqHiH",
        "colab_type": "code",
        "colab": {
          "base_uri": "https://localhost:8080/",
          "height": 561
        },
        "outputId": "8c53c190-6e42-42d9-e1f1-21df6733a2a1"
      },
      "source": [
        "# Check the null values\n",
        "data.isnull().sum()"
      ],
      "execution_count": null,
      "outputs": [
        {
          "output_type": "execute_result",
          "data": {
            "text/plain": [
              "Time      0\n",
              "V1        0\n",
              "V2        0\n",
              "V3        0\n",
              "V4        0\n",
              "V5        0\n",
              "V6        0\n",
              "V7        0\n",
              "V8        0\n",
              "V9        0\n",
              "V10       0\n",
              "V11       0\n",
              "V12       0\n",
              "V13       0\n",
              "V14       0\n",
              "V15       0\n",
              "V16       0\n",
              "V17       0\n",
              "V18       0\n",
              "V19       0\n",
              "V20       0\n",
              "V21       0\n",
              "V22       0\n",
              "V23       0\n",
              "V24       0\n",
              "V25       0\n",
              "V26       0\n",
              "V27       0\n",
              "V28       0\n",
              "Amount    0\n",
              "Class     0\n",
              "dtype: int64"
            ]
          },
          "metadata": {
            "tags": []
          },
          "execution_count": 5
        }
      ]
    },
    {
      "cell_type": "code",
      "metadata": {
        "id": "uO5Rxf9gqHca",
        "colab_type": "code",
        "colab": {
          "base_uri": "https://localhost:8080/",
          "height": 663
        },
        "outputId": "b66d759f-784c-40ad-9c48-bde7cd7d6fee"
      },
      "source": [
        "data.info()"
      ],
      "execution_count": null,
      "outputs": [
        {
          "output_type": "stream",
          "text": [
            "<class 'pandas.core.frame.DataFrame'>\n",
            "RangeIndex: 284807 entries, 0 to 284806\n",
            "Data columns (total 31 columns):\n",
            " #   Column  Non-Null Count   Dtype  \n",
            "---  ------  --------------   -----  \n",
            " 0   Time    284807 non-null  float64\n",
            " 1   V1      284807 non-null  float64\n",
            " 2   V2      284807 non-null  float64\n",
            " 3   V3      284807 non-null  float64\n",
            " 4   V4      284807 non-null  float64\n",
            " 5   V5      284807 non-null  float64\n",
            " 6   V6      284807 non-null  float64\n",
            " 7   V7      284807 non-null  float64\n",
            " 8   V8      284807 non-null  float64\n",
            " 9   V9      284807 non-null  float64\n",
            " 10  V10     284807 non-null  float64\n",
            " 11  V11     284807 non-null  float64\n",
            " 12  V12     284807 non-null  float64\n",
            " 13  V13     284807 non-null  float64\n",
            " 14  V14     284807 non-null  float64\n",
            " 15  V15     284807 non-null  float64\n",
            " 16  V16     284807 non-null  float64\n",
            " 17  V17     284807 non-null  float64\n",
            " 18  V18     284807 non-null  float64\n",
            " 19  V19     284807 non-null  float64\n",
            " 20  V20     284807 non-null  float64\n",
            " 21  V21     284807 non-null  float64\n",
            " 22  V22     284807 non-null  float64\n",
            " 23  V23     284807 non-null  float64\n",
            " 24  V24     284807 non-null  float64\n",
            " 25  V25     284807 non-null  float64\n",
            " 26  V26     284807 non-null  float64\n",
            " 27  V27     284807 non-null  float64\n",
            " 28  V28     284807 non-null  float64\n",
            " 29  Amount  284807 non-null  float64\n",
            " 30  Class   284807 non-null  int64  \n",
            "dtypes: float64(30), int64(1)\n",
            "memory usage: 67.4 MB\n"
          ],
          "name": "stdout"
        }
      ]
    },
    {
      "cell_type": "code",
      "metadata": {
        "id": "xxmv8IetqHY_",
        "colab_type": "code",
        "colab": {
          "base_uri": "https://localhost:8080/",
          "height": 68
        },
        "outputId": "271287ba-cdde-4989-931f-270257c8742f"
      },
      "source": [
        "# Check the number of classes in tha dataset\n",
        "data[\"Class\"].value_counts()"
      ],
      "execution_count": null,
      "outputs": [
        {
          "output_type": "execute_result",
          "data": {
            "text/plain": [
              "0    284315\n",
              "1       492\n",
              "Name: Class, dtype: int64"
            ]
          },
          "metadata": {
            "tags": []
          },
          "execution_count": 7
        }
      ]
    },
    {
      "cell_type": "markdown",
      "metadata": {
        "id": "3bFV6HM54KzW",
        "colab_type": "text"
      },
      "source": [
        "**We need to balance the dataset for it is highly imbalanced**"
      ]
    },
    {
      "cell_type": "code",
      "metadata": {
        "id": "TyLxKW6UqHWQ",
        "colab_type": "code",
        "colab": {}
      },
      "source": [
        "no_fraud = data[data[\"Class\"]==0]\n",
        "fraud = data[data[\"Class\"]==1]"
      ],
      "execution_count": null,
      "outputs": []
    },
    {
      "cell_type": "code",
      "metadata": {
        "id": "-xQ10nVo6QF6",
        "colab_type": "code",
        "colab": {
          "base_uri": "https://localhost:8080/",
          "height": 34
        },
        "outputId": "18d014f7-1d44-4178-c605-11ef56d10a67"
      },
      "source": [
        "fraud.shape[0]"
      ],
      "execution_count": null,
      "outputs": [
        {
          "output_type": "execute_result",
          "data": {
            "text/plain": [
              "492"
            ]
          },
          "metadata": {
            "tags": []
          },
          "execution_count": 9
        }
      ]
    },
    {
      "cell_type": "code",
      "metadata": {
        "id": "ll7gp92zqHUV",
        "colab_type": "code",
        "colab": {
          "base_uri": "https://localhost:8080/",
          "height": 34
        },
        "outputId": "a7b3ccb4-6482-4f8f-892f-e9e03a829d3d"
      },
      "source": [
        "no_fraud.shape, fraud.shape"
      ],
      "execution_count": null,
      "outputs": [
        {
          "output_type": "execute_result",
          "data": {
            "text/plain": [
              "((284315, 31), (492, 31))"
            ]
          },
          "metadata": {
            "tags": []
          },
          "execution_count": 10
        }
      ]
    },
    {
      "cell_type": "markdown",
      "metadata": {
        "id": "z1Vt1_Wd5IzE",
        "colab_type": "text"
      },
      "source": [
        "To balance our dataset, we are going to select 492 rows from the no_fraud dataset and append it to fraud dataset.\n",
        "\n",
        "Those selections must be random and to do that we use sample from pandas>"
      ]
    },
    {
      "cell_type": "code",
      "metadata": {
        "id": "xcEA5MW0qHPI",
        "colab_type": "code",
        "colab": {
          "base_uri": "https://localhost:8080/",
          "height": 34
        },
        "outputId": "03b66866-ff6d-4811-f5b4-a496f5239bf6"
      },
      "source": [
        "no_fraud = no_fraud.sample(fraud.shape[0])\n",
        "no_fraud.shape"
      ],
      "execution_count": null,
      "outputs": [
        {
          "output_type": "execute_result",
          "data": {
            "text/plain": [
              "(492, 31)"
            ]
          },
          "metadata": {
            "tags": []
          },
          "execution_count": 11
        }
      ]
    },
    {
      "cell_type": "code",
      "metadata": {
        "id": "kzRvFhnBqHMY",
        "colab_type": "code",
        "colab": {
          "base_uri": "https://localhost:8080/",
          "height": 439
        },
        "outputId": "b2eb5f96-67ce-4fd0-b2c7-0ad5d7ffea74"
      },
      "source": [
        "# Merge these two dataset together\n",
        "data = fraud.append(no_fraud, ignore_index=True)\n",
        "data"
      ],
      "execution_count": null,
      "outputs": [
        {
          "output_type": "execute_result",
          "data": {
            "text/html": [
              "<div>\n",
              "<style scoped>\n",
              "    .dataframe tbody tr th:only-of-type {\n",
              "        vertical-align: middle;\n",
              "    }\n",
              "\n",
              "    .dataframe tbody tr th {\n",
              "        vertical-align: top;\n",
              "    }\n",
              "\n",
              "    .dataframe thead th {\n",
              "        text-align: right;\n",
              "    }\n",
              "</style>\n",
              "<table border=\"1\" class=\"dataframe\">\n",
              "  <thead>\n",
              "    <tr style=\"text-align: right;\">\n",
              "      <th></th>\n",
              "      <th>Time</th>\n",
              "      <th>V1</th>\n",
              "      <th>V2</th>\n",
              "      <th>V3</th>\n",
              "      <th>V4</th>\n",
              "      <th>V5</th>\n",
              "      <th>V6</th>\n",
              "      <th>V7</th>\n",
              "      <th>V8</th>\n",
              "      <th>V9</th>\n",
              "      <th>V10</th>\n",
              "      <th>V11</th>\n",
              "      <th>V12</th>\n",
              "      <th>V13</th>\n",
              "      <th>V14</th>\n",
              "      <th>V15</th>\n",
              "      <th>V16</th>\n",
              "      <th>V17</th>\n",
              "      <th>V18</th>\n",
              "      <th>V19</th>\n",
              "      <th>V20</th>\n",
              "      <th>V21</th>\n",
              "      <th>V22</th>\n",
              "      <th>V23</th>\n",
              "      <th>V24</th>\n",
              "      <th>V25</th>\n",
              "      <th>V26</th>\n",
              "      <th>V27</th>\n",
              "      <th>V28</th>\n",
              "      <th>Amount</th>\n",
              "      <th>Class</th>\n",
              "    </tr>\n",
              "  </thead>\n",
              "  <tbody>\n",
              "    <tr>\n",
              "      <th>0</th>\n",
              "      <td>406.0</td>\n",
              "      <td>-2.312227</td>\n",
              "      <td>1.951992</td>\n",
              "      <td>-1.609851</td>\n",
              "      <td>3.997906</td>\n",
              "      <td>-0.522188</td>\n",
              "      <td>-1.426545</td>\n",
              "      <td>-2.537387</td>\n",
              "      <td>1.391657</td>\n",
              "      <td>-2.770089</td>\n",
              "      <td>-2.772272</td>\n",
              "      <td>3.202033</td>\n",
              "      <td>-2.899907</td>\n",
              "      <td>-0.595222</td>\n",
              "      <td>-4.289254</td>\n",
              "      <td>0.389724</td>\n",
              "      <td>-1.140747</td>\n",
              "      <td>-2.830056</td>\n",
              "      <td>-0.016822</td>\n",
              "      <td>0.416956</td>\n",
              "      <td>0.126911</td>\n",
              "      <td>0.517232</td>\n",
              "      <td>-0.035049</td>\n",
              "      <td>-0.465211</td>\n",
              "      <td>0.320198</td>\n",
              "      <td>0.044519</td>\n",
              "      <td>0.177840</td>\n",
              "      <td>0.261145</td>\n",
              "      <td>-0.143276</td>\n",
              "      <td>0.00</td>\n",
              "      <td>1</td>\n",
              "    </tr>\n",
              "    <tr>\n",
              "      <th>1</th>\n",
              "      <td>472.0</td>\n",
              "      <td>-3.043541</td>\n",
              "      <td>-3.157307</td>\n",
              "      <td>1.088463</td>\n",
              "      <td>2.288644</td>\n",
              "      <td>1.359805</td>\n",
              "      <td>-1.064823</td>\n",
              "      <td>0.325574</td>\n",
              "      <td>-0.067794</td>\n",
              "      <td>-0.270953</td>\n",
              "      <td>-0.838587</td>\n",
              "      <td>-0.414575</td>\n",
              "      <td>-0.503141</td>\n",
              "      <td>0.676502</td>\n",
              "      <td>-1.692029</td>\n",
              "      <td>2.000635</td>\n",
              "      <td>0.666780</td>\n",
              "      <td>0.599717</td>\n",
              "      <td>1.725321</td>\n",
              "      <td>0.283345</td>\n",
              "      <td>2.102339</td>\n",
              "      <td>0.661696</td>\n",
              "      <td>0.435477</td>\n",
              "      <td>1.375966</td>\n",
              "      <td>-0.293803</td>\n",
              "      <td>0.279798</td>\n",
              "      <td>-0.145362</td>\n",
              "      <td>-0.252773</td>\n",
              "      <td>0.035764</td>\n",
              "      <td>529.00</td>\n",
              "      <td>1</td>\n",
              "    </tr>\n",
              "    <tr>\n",
              "      <th>2</th>\n",
              "      <td>4462.0</td>\n",
              "      <td>-2.303350</td>\n",
              "      <td>1.759247</td>\n",
              "      <td>-0.359745</td>\n",
              "      <td>2.330243</td>\n",
              "      <td>-0.821628</td>\n",
              "      <td>-0.075788</td>\n",
              "      <td>0.562320</td>\n",
              "      <td>-0.399147</td>\n",
              "      <td>-0.238253</td>\n",
              "      <td>-1.525412</td>\n",
              "      <td>2.032912</td>\n",
              "      <td>-6.560124</td>\n",
              "      <td>0.022937</td>\n",
              "      <td>-1.470102</td>\n",
              "      <td>-0.698826</td>\n",
              "      <td>-2.282194</td>\n",
              "      <td>-4.781831</td>\n",
              "      <td>-2.615665</td>\n",
              "      <td>-1.334441</td>\n",
              "      <td>-0.430022</td>\n",
              "      <td>-0.294166</td>\n",
              "      <td>-0.932391</td>\n",
              "      <td>0.172726</td>\n",
              "      <td>-0.087330</td>\n",
              "      <td>-0.156114</td>\n",
              "      <td>-0.542628</td>\n",
              "      <td>0.039566</td>\n",
              "      <td>-0.153029</td>\n",
              "      <td>239.93</td>\n",
              "      <td>1</td>\n",
              "    </tr>\n",
              "    <tr>\n",
              "      <th>3</th>\n",
              "      <td>6986.0</td>\n",
              "      <td>-4.397974</td>\n",
              "      <td>1.358367</td>\n",
              "      <td>-2.592844</td>\n",
              "      <td>2.679787</td>\n",
              "      <td>-1.128131</td>\n",
              "      <td>-1.706536</td>\n",
              "      <td>-3.496197</td>\n",
              "      <td>-0.248778</td>\n",
              "      <td>-0.247768</td>\n",
              "      <td>-4.801637</td>\n",
              "      <td>4.895844</td>\n",
              "      <td>-10.912819</td>\n",
              "      <td>0.184372</td>\n",
              "      <td>-6.771097</td>\n",
              "      <td>-0.007326</td>\n",
              "      <td>-7.358083</td>\n",
              "      <td>-12.598419</td>\n",
              "      <td>-5.131549</td>\n",
              "      <td>0.308334</td>\n",
              "      <td>-0.171608</td>\n",
              "      <td>0.573574</td>\n",
              "      <td>0.176968</td>\n",
              "      <td>-0.436207</td>\n",
              "      <td>-0.053502</td>\n",
              "      <td>0.252405</td>\n",
              "      <td>-0.657488</td>\n",
              "      <td>-0.827136</td>\n",
              "      <td>0.849573</td>\n",
              "      <td>59.00</td>\n",
              "      <td>1</td>\n",
              "    </tr>\n",
              "    <tr>\n",
              "      <th>4</th>\n",
              "      <td>7519.0</td>\n",
              "      <td>1.234235</td>\n",
              "      <td>3.019740</td>\n",
              "      <td>-4.304597</td>\n",
              "      <td>4.732795</td>\n",
              "      <td>3.624201</td>\n",
              "      <td>-1.357746</td>\n",
              "      <td>1.713445</td>\n",
              "      <td>-0.496358</td>\n",
              "      <td>-1.282858</td>\n",
              "      <td>-2.447469</td>\n",
              "      <td>2.101344</td>\n",
              "      <td>-4.609628</td>\n",
              "      <td>1.464378</td>\n",
              "      <td>-6.079337</td>\n",
              "      <td>-0.339237</td>\n",
              "      <td>2.581851</td>\n",
              "      <td>6.739384</td>\n",
              "      <td>3.042493</td>\n",
              "      <td>-2.721853</td>\n",
              "      <td>0.009061</td>\n",
              "      <td>-0.379068</td>\n",
              "      <td>-0.704181</td>\n",
              "      <td>-0.656805</td>\n",
              "      <td>-1.632653</td>\n",
              "      <td>1.488901</td>\n",
              "      <td>0.566797</td>\n",
              "      <td>-0.010016</td>\n",
              "      <td>0.146793</td>\n",
              "      <td>1.00</td>\n",
              "      <td>1</td>\n",
              "    </tr>\n",
              "    <tr>\n",
              "      <th>...</th>\n",
              "      <td>...</td>\n",
              "      <td>...</td>\n",
              "      <td>...</td>\n",
              "      <td>...</td>\n",
              "      <td>...</td>\n",
              "      <td>...</td>\n",
              "      <td>...</td>\n",
              "      <td>...</td>\n",
              "      <td>...</td>\n",
              "      <td>...</td>\n",
              "      <td>...</td>\n",
              "      <td>...</td>\n",
              "      <td>...</td>\n",
              "      <td>...</td>\n",
              "      <td>...</td>\n",
              "      <td>...</td>\n",
              "      <td>...</td>\n",
              "      <td>...</td>\n",
              "      <td>...</td>\n",
              "      <td>...</td>\n",
              "      <td>...</td>\n",
              "      <td>...</td>\n",
              "      <td>...</td>\n",
              "      <td>...</td>\n",
              "      <td>...</td>\n",
              "      <td>...</td>\n",
              "      <td>...</td>\n",
              "      <td>...</td>\n",
              "      <td>...</td>\n",
              "      <td>...</td>\n",
              "      <td>...</td>\n",
              "    </tr>\n",
              "    <tr>\n",
              "      <th>979</th>\n",
              "      <td>27704.0</td>\n",
              "      <td>-1.396655</td>\n",
              "      <td>1.491822</td>\n",
              "      <td>0.672095</td>\n",
              "      <td>1.064165</td>\n",
              "      <td>-0.441202</td>\n",
              "      <td>-0.725032</td>\n",
              "      <td>0.088745</td>\n",
              "      <td>0.640929</td>\n",
              "      <td>-1.042506</td>\n",
              "      <td>-0.516661</td>\n",
              "      <td>0.073737</td>\n",
              "      <td>1.003925</td>\n",
              "      <td>1.088385</td>\n",
              "      <td>0.755161</td>\n",
              "      <td>1.068370</td>\n",
              "      <td>-0.582674</td>\n",
              "      <td>0.540625</td>\n",
              "      <td>-0.577957</td>\n",
              "      <td>-0.122585</td>\n",
              "      <td>-0.298968</td>\n",
              "      <td>0.325588</td>\n",
              "      <td>0.788607</td>\n",
              "      <td>0.113663</td>\n",
              "      <td>0.653714</td>\n",
              "      <td>-0.317641</td>\n",
              "      <td>-0.357261</td>\n",
              "      <td>-0.281339</td>\n",
              "      <td>0.010510</td>\n",
              "      <td>20.00</td>\n",
              "      <td>0</td>\n",
              "    </tr>\n",
              "    <tr>\n",
              "      <th>980</th>\n",
              "      <td>564.0</td>\n",
              "      <td>-2.422708</td>\n",
              "      <td>2.544338</td>\n",
              "      <td>-0.509210</td>\n",
              "      <td>0.084550</td>\n",
              "      <td>-1.431677</td>\n",
              "      <td>-1.265684</td>\n",
              "      <td>-0.776953</td>\n",
              "      <td>1.697062</td>\n",
              "      <td>-0.399877</td>\n",
              "      <td>-0.466413</td>\n",
              "      <td>-0.836636</td>\n",
              "      <td>0.264950</td>\n",
              "      <td>-0.246808</td>\n",
              "      <td>0.747364</td>\n",
              "      <td>0.856408</td>\n",
              "      <td>0.844407</td>\n",
              "      <td>0.689971</td>\n",
              "      <td>0.039768</td>\n",
              "      <td>-0.196732</td>\n",
              "      <td>0.009865</td>\n",
              "      <td>-0.196938</td>\n",
              "      <td>-0.855361</td>\n",
              "      <td>0.224607</td>\n",
              "      <td>0.305455</td>\n",
              "      <td>0.065001</td>\n",
              "      <td>0.096890</td>\n",
              "      <td>0.072786</td>\n",
              "      <td>0.004235</td>\n",
              "      <td>9.99</td>\n",
              "      <td>0</td>\n",
              "    </tr>\n",
              "    <tr>\n",
              "      <th>981</th>\n",
              "      <td>166374.0</td>\n",
              "      <td>-0.119735</td>\n",
              "      <td>1.163854</td>\n",
              "      <td>-0.484352</td>\n",
              "      <td>-0.572719</td>\n",
              "      <td>0.903535</td>\n",
              "      <td>-0.915146</td>\n",
              "      <td>0.935974</td>\n",
              "      <td>-0.106462</td>\n",
              "      <td>0.127328</td>\n",
              "      <td>-0.523050</td>\n",
              "      <td>-0.606488</td>\n",
              "      <td>-0.025718</td>\n",
              "      <td>0.119310</td>\n",
              "      <td>-1.107100</td>\n",
              "      <td>-0.237997</td>\n",
              "      <td>0.290991</td>\n",
              "      <td>0.367805</td>\n",
              "      <td>-0.261275</td>\n",
              "      <td>-0.275867</td>\n",
              "      <td>0.158654</td>\n",
              "      <td>-0.365838</td>\n",
              "      <td>-0.841522</td>\n",
              "      <td>0.116173</td>\n",
              "      <td>0.629097</td>\n",
              "      <td>-0.369414</td>\n",
              "      <td>0.113573</td>\n",
              "      <td>0.324354</td>\n",
              "      <td>0.156794</td>\n",
              "      <td>2.28</td>\n",
              "      <td>0</td>\n",
              "    </tr>\n",
              "    <tr>\n",
              "      <th>982</th>\n",
              "      <td>76870.0</td>\n",
              "      <td>-1.500882</td>\n",
              "      <td>-0.109961</td>\n",
              "      <td>1.599557</td>\n",
              "      <td>-0.405910</td>\n",
              "      <td>5.190332</td>\n",
              "      <td>-4.265361</td>\n",
              "      <td>-5.207839</td>\n",
              "      <td>-1.799143</td>\n",
              "      <td>0.987598</td>\n",
              "      <td>0.980515</td>\n",
              "      <td>-0.654046</td>\n",
              "      <td>0.931738</td>\n",
              "      <td>-0.229886</td>\n",
              "      <td>0.185616</td>\n",
              "      <td>-0.475084</td>\n",
              "      <td>-0.459202</td>\n",
              "      <td>0.088562</td>\n",
              "      <td>-1.191284</td>\n",
              "      <td>-0.513519</td>\n",
              "      <td>-0.689389</td>\n",
              "      <td>1.535770</td>\n",
              "      <td>-1.472732</td>\n",
              "      <td>-8.727518</td>\n",
              "      <td>0.915397</td>\n",
              "      <td>-2.603818</td>\n",
              "      <td>0.613612</td>\n",
              "      <td>0.655793</td>\n",
              "      <td>0.292784</td>\n",
              "      <td>2.00</td>\n",
              "      <td>0</td>\n",
              "    </tr>\n",
              "    <tr>\n",
              "      <th>983</th>\n",
              "      <td>37078.0</td>\n",
              "      <td>0.965027</td>\n",
              "      <td>-0.673411</td>\n",
              "      <td>0.736576</td>\n",
              "      <td>0.495859</td>\n",
              "      <td>-1.128112</td>\n",
              "      <td>-0.174259</td>\n",
              "      <td>-0.627841</td>\n",
              "      <td>0.274170</td>\n",
              "      <td>0.690602</td>\n",
              "      <td>0.097147</td>\n",
              "      <td>0.571092</td>\n",
              "      <td>-0.775793</td>\n",
              "      <td>-2.740910</td>\n",
              "      <td>0.761381</td>\n",
              "      <td>1.062272</td>\n",
              "      <td>1.103347</td>\n",
              "      <td>-0.771117</td>\n",
              "      <td>0.988580</td>\n",
              "      <td>0.021030</td>\n",
              "      <td>0.002299</td>\n",
              "      <td>0.065857</td>\n",
              "      <td>-0.245098</td>\n",
              "      <td>-0.062017</td>\n",
              "      <td>-0.034380</td>\n",
              "      <td>0.021502</td>\n",
              "      <td>0.391137</td>\n",
              "      <td>-0.052940</td>\n",
              "      <td>0.027842</td>\n",
              "      <td>127.10</td>\n",
              "      <td>0</td>\n",
              "    </tr>\n",
              "  </tbody>\n",
              "</table>\n",
              "<p>984 rows × 31 columns</p>\n",
              "</div>"
            ],
            "text/plain": [
              "         Time        V1        V2        V3  ...       V27       V28  Amount  Class\n",
              "0       406.0 -2.312227  1.951992 -1.609851  ...  0.261145 -0.143276    0.00      1\n",
              "1       472.0 -3.043541 -3.157307  1.088463  ... -0.252773  0.035764  529.00      1\n",
              "2      4462.0 -2.303350  1.759247 -0.359745  ...  0.039566 -0.153029  239.93      1\n",
              "3      6986.0 -4.397974  1.358367 -2.592844  ... -0.827136  0.849573   59.00      1\n",
              "4      7519.0  1.234235  3.019740 -4.304597  ... -0.010016  0.146793    1.00      1\n",
              "..        ...       ...       ...       ...  ...       ...       ...     ...    ...\n",
              "979   27704.0 -1.396655  1.491822  0.672095  ... -0.281339  0.010510   20.00      0\n",
              "980     564.0 -2.422708  2.544338 -0.509210  ...  0.072786  0.004235    9.99      0\n",
              "981  166374.0 -0.119735  1.163854 -0.484352  ...  0.324354  0.156794    2.28      0\n",
              "982   76870.0 -1.500882 -0.109961  1.599557  ...  0.655793  0.292784    2.00      0\n",
              "983   37078.0  0.965027 -0.673411  0.736576  ... -0.052940  0.027842  127.10      0\n",
              "\n",
              "[984 rows x 31 columns]"
            ]
          },
          "metadata": {
            "tags": []
          },
          "execution_count": 12
        }
      ]
    },
    {
      "cell_type": "code",
      "metadata": {
        "id": "hnL_BHJeqHLb",
        "colab_type": "code",
        "colab": {
          "base_uri": "https://localhost:8080/",
          "height": 68
        },
        "outputId": "b780fea8-f4d2-4b30-e789-16651f94119c"
      },
      "source": [
        "data[\"Class\"].value_counts()"
      ],
      "execution_count": null,
      "outputs": [
        {
          "output_type": "execute_result",
          "data": {
            "text/plain": [
              "1    492\n",
              "0    492\n",
              "Name: Class, dtype: int64"
            ]
          },
          "metadata": {
            "tags": []
          },
          "execution_count": 13
        }
      ]
    },
    {
      "cell_type": "code",
      "metadata": {
        "id": "1pCRaAfmqHEw",
        "colab_type": "code",
        "colab": {}
      },
      "source": [
        "x = data.drop(\"Class\", axis=1)\n",
        "y = data[\"Class\"]"
      ],
      "execution_count": null,
      "outputs": []
    },
    {
      "cell_type": "code",
      "metadata": {
        "id": "beFKynr1qHBy",
        "colab_type": "code",
        "colab": {}
      },
      "source": [
        "x_train, x_test, y_train, y_test = train_test_split(x, y,\n",
        "                                                    test_size=0.2,\n",
        "                                                    random_state=0,\n",
        "                                                    stratify=y)"
      ],
      "execution_count": null,
      "outputs": []
    },
    {
      "cell_type": "code",
      "metadata": {
        "id": "72SZGqmEqHAu",
        "colab_type": "code",
        "colab": {
          "base_uri": "https://localhost:8080/",
          "height": 34
        },
        "outputId": "73ce8d1e-d182-4d06-817a-00fc611ed21d"
      },
      "source": [
        "x_train.shape, x_test.shape"
      ],
      "execution_count": null,
      "outputs": [
        {
          "output_type": "execute_result",
          "data": {
            "text/plain": [
              "((787, 30), (197, 30))"
            ]
          },
          "metadata": {
            "tags": []
          },
          "execution_count": 16
        }
      ]
    },
    {
      "cell_type": "code",
      "metadata": {
        "id": "2ZW8vRiZqG9U",
        "colab_type": "code",
        "colab": {
          "base_uri": "https://localhost:8080/",
          "height": 439
        },
        "outputId": "7f4dffb3-dddd-47e3-e04e-d1eac11b9cd7"
      },
      "source": [
        "x_train"
      ],
      "execution_count": null,
      "outputs": [
        {
          "output_type": "execute_result",
          "data": {
            "text/html": [
              "<div>\n",
              "<style scoped>\n",
              "    .dataframe tbody tr th:only-of-type {\n",
              "        vertical-align: middle;\n",
              "    }\n",
              "\n",
              "    .dataframe tbody tr th {\n",
              "        vertical-align: top;\n",
              "    }\n",
              "\n",
              "    .dataframe thead th {\n",
              "        text-align: right;\n",
              "    }\n",
              "</style>\n",
              "<table border=\"1\" class=\"dataframe\">\n",
              "  <thead>\n",
              "    <tr style=\"text-align: right;\">\n",
              "      <th></th>\n",
              "      <th>Time</th>\n",
              "      <th>V1</th>\n",
              "      <th>V2</th>\n",
              "      <th>V3</th>\n",
              "      <th>V4</th>\n",
              "      <th>V5</th>\n",
              "      <th>V6</th>\n",
              "      <th>V7</th>\n",
              "      <th>V8</th>\n",
              "      <th>V9</th>\n",
              "      <th>V10</th>\n",
              "      <th>V11</th>\n",
              "      <th>V12</th>\n",
              "      <th>V13</th>\n",
              "      <th>V14</th>\n",
              "      <th>V15</th>\n",
              "      <th>V16</th>\n",
              "      <th>V17</th>\n",
              "      <th>V18</th>\n",
              "      <th>V19</th>\n",
              "      <th>V20</th>\n",
              "      <th>V21</th>\n",
              "      <th>V22</th>\n",
              "      <th>V23</th>\n",
              "      <th>V24</th>\n",
              "      <th>V25</th>\n",
              "      <th>V26</th>\n",
              "      <th>V27</th>\n",
              "      <th>V28</th>\n",
              "      <th>Amount</th>\n",
              "    </tr>\n",
              "  </thead>\n",
              "  <tbody>\n",
              "    <tr>\n",
              "      <th>845</th>\n",
              "      <td>169750.0</td>\n",
              "      <td>1.494712</td>\n",
              "      <td>-0.943940</td>\n",
              "      <td>-1.601964</td>\n",
              "      <td>0.595578</td>\n",
              "      <td>-0.307574</td>\n",
              "      <td>-1.180846</td>\n",
              "      <td>0.635951</td>\n",
              "      <td>-0.489974</td>\n",
              "      <td>0.533905</td>\n",
              "      <td>-0.141954</td>\n",
              "      <td>-0.671255</td>\n",
              "      <td>0.538822</td>\n",
              "      <td>0.611659</td>\n",
              "      <td>0.428368</td>\n",
              "      <td>0.765595</td>\n",
              "      <td>-0.144027</td>\n",
              "      <td>-0.561127</td>\n",
              "      <td>0.001623</td>\n",
              "      <td>-0.330961</td>\n",
              "      <td>0.399334</td>\n",
              "      <td>0.442804</td>\n",
              "      <td>0.788232</td>\n",
              "      <td>-0.278025</td>\n",
              "      <td>0.042278</td>\n",
              "      <td>0.167661</td>\n",
              "      <td>-0.133648</td>\n",
              "      <td>-0.069929</td>\n",
              "      <td>-0.004823</td>\n",
              "      <td>301.83</td>\n",
              "    </tr>\n",
              "    <tr>\n",
              "      <th>898</th>\n",
              "      <td>43773.0</td>\n",
              "      <td>1.083154</td>\n",
              "      <td>-0.258436</td>\n",
              "      <td>-0.417109</td>\n",
              "      <td>0.954341</td>\n",
              "      <td>0.535516</td>\n",
              "      <td>1.120447</td>\n",
              "      <td>-0.061272</td>\n",
              "      <td>0.303173</td>\n",
              "      <td>0.363125</td>\n",
              "      <td>0.051722</td>\n",
              "      <td>-0.632654</td>\n",
              "      <td>-0.130947</td>\n",
              "      <td>-1.371601</td>\n",
              "      <td>0.470723</td>\n",
              "      <td>-0.496966</td>\n",
              "      <td>0.056558</td>\n",
              "      <td>-0.528166</td>\n",
              "      <td>0.277716</td>\n",
              "      <td>0.556378</td>\n",
              "      <td>-0.050386</td>\n",
              "      <td>-0.130627</td>\n",
              "      <td>-0.425106</td>\n",
              "      <td>-0.343542</td>\n",
              "      <td>-1.738628</td>\n",
              "      <td>0.783259</td>\n",
              "      <td>-0.226349</td>\n",
              "      <td>0.008699</td>\n",
              "      <td>-0.000611</td>\n",
              "      <td>90.75</td>\n",
              "    </tr>\n",
              "    <tr>\n",
              "      <th>45</th>\n",
              "      <td>18399.0</td>\n",
              "      <td>-14.474437</td>\n",
              "      <td>6.503185</td>\n",
              "      <td>-17.712632</td>\n",
              "      <td>11.270352</td>\n",
              "      <td>-4.150142</td>\n",
              "      <td>-3.372098</td>\n",
              "      <td>-16.535807</td>\n",
              "      <td>-1.443947</td>\n",
              "      <td>-6.815273</td>\n",
              "      <td>-13.670545</td>\n",
              "      <td>10.545263</td>\n",
              "      <td>-15.022700</td>\n",
              "      <td>0.171633</td>\n",
              "      <td>-15.066374</td>\n",
              "      <td>-0.259576</td>\n",
              "      <td>-8.668739</td>\n",
              "      <td>-12.804141</td>\n",
              "      <td>-5.116620</td>\n",
              "      <td>0.579200</td>\n",
              "      <td>1.101250</td>\n",
              "      <td>-2.475962</td>\n",
              "      <td>0.342391</td>\n",
              "      <td>-3.564508</td>\n",
              "      <td>-0.818140</td>\n",
              "      <td>0.153408</td>\n",
              "      <td>0.755079</td>\n",
              "      <td>2.706566</td>\n",
              "      <td>-0.992916</td>\n",
              "      <td>1.00</td>\n",
              "    </tr>\n",
              "    <tr>\n",
              "      <th>536</th>\n",
              "      <td>146135.0</td>\n",
              "      <td>-3.619045</td>\n",
              "      <td>-4.020710</td>\n",
              "      <td>1.748468</td>\n",
              "      <td>-2.774926</td>\n",
              "      <td>3.336547</td>\n",
              "      <td>-3.807566</td>\n",
              "      <td>-2.087815</td>\n",
              "      <td>0.305767</td>\n",
              "      <td>2.083627</td>\n",
              "      <td>-2.238650</td>\n",
              "      <td>-1.124794</td>\n",
              "      <td>0.040238</td>\n",
              "      <td>-1.282728</td>\n",
              "      <td>0.323060</td>\n",
              "      <td>1.148160</td>\n",
              "      <td>-0.227687</td>\n",
              "      <td>-0.697201</td>\n",
              "      <td>0.813978</td>\n",
              "      <td>-0.390458</td>\n",
              "      <td>0.817974</td>\n",
              "      <td>0.557531</td>\n",
              "      <td>0.422387</td>\n",
              "      <td>0.236969</td>\n",
              "      <td>-0.054798</td>\n",
              "      <td>1.138012</td>\n",
              "      <td>-0.796171</td>\n",
              "      <td>-0.092176</td>\n",
              "      <td>0.131153</td>\n",
              "      <td>30.10</td>\n",
              "    </tr>\n",
              "    <tr>\n",
              "      <th>739</th>\n",
              "      <td>131233.0</td>\n",
              "      <td>-1.015938</td>\n",
              "      <td>1.023279</td>\n",
              "      <td>-0.106731</td>\n",
              "      <td>-0.198794</td>\n",
              "      <td>2.127830</td>\n",
              "      <td>4.947090</td>\n",
              "      <td>-1.361590</td>\n",
              "      <td>-1.510326</td>\n",
              "      <td>-0.543055</td>\n",
              "      <td>-0.707929</td>\n",
              "      <td>-0.321843</td>\n",
              "      <td>0.021958</td>\n",
              "      <td>-0.270060</td>\n",
              "      <td>0.548471</td>\n",
              "      <td>1.418443</td>\n",
              "      <td>0.090446</td>\n",
              "      <td>-0.382071</td>\n",
              "      <td>0.548912</td>\n",
              "      <td>0.020286</td>\n",
              "      <td>0.634443</td>\n",
              "      <td>-0.972111</td>\n",
              "      <td>1.212433</td>\n",
              "      <td>-0.173951</td>\n",
              "      <td>0.694928</td>\n",
              "      <td>-0.144648</td>\n",
              "      <td>-0.380596</td>\n",
              "      <td>0.103646</td>\n",
              "      <td>0.161816</td>\n",
              "      <td>57.04</td>\n",
              "    </tr>\n",
              "    <tr>\n",
              "      <th>...</th>\n",
              "      <td>...</td>\n",
              "      <td>...</td>\n",
              "      <td>...</td>\n",
              "      <td>...</td>\n",
              "      <td>...</td>\n",
              "      <td>...</td>\n",
              "      <td>...</td>\n",
              "      <td>...</td>\n",
              "      <td>...</td>\n",
              "      <td>...</td>\n",
              "      <td>...</td>\n",
              "      <td>...</td>\n",
              "      <td>...</td>\n",
              "      <td>...</td>\n",
              "      <td>...</td>\n",
              "      <td>...</td>\n",
              "      <td>...</td>\n",
              "      <td>...</td>\n",
              "      <td>...</td>\n",
              "      <td>...</td>\n",
              "      <td>...</td>\n",
              "      <td>...</td>\n",
              "      <td>...</td>\n",
              "      <td>...</td>\n",
              "      <td>...</td>\n",
              "      <td>...</td>\n",
              "      <td>...</td>\n",
              "      <td>...</td>\n",
              "      <td>...</td>\n",
              "      <td>...</td>\n",
              "    </tr>\n",
              "    <tr>\n",
              "      <th>202</th>\n",
              "      <td>59840.0</td>\n",
              "      <td>-3.215382</td>\n",
              "      <td>-0.364223</td>\n",
              "      <td>-1.261883</td>\n",
              "      <td>3.794949</td>\n",
              "      <td>0.711206</td>\n",
              "      <td>-1.316476</td>\n",
              "      <td>-5.165141</td>\n",
              "      <td>0.625278</td>\n",
              "      <td>-1.582301</td>\n",
              "      <td>-3.252634</td>\n",
              "      <td>5.040751</td>\n",
              "      <td>-5.314442</td>\n",
              "      <td>-0.656471</td>\n",
              "      <td>-6.233044</td>\n",
              "      <td>0.974771</td>\n",
              "      <td>-6.890318</td>\n",
              "      <td>-9.516411</td>\n",
              "      <td>-4.364128</td>\n",
              "      <td>2.598578</td>\n",
              "      <td>0.019626</td>\n",
              "      <td>0.401341</td>\n",
              "      <td>0.152191</td>\n",
              "      <td>-0.934675</td>\n",
              "      <td>-0.256148</td>\n",
              "      <td>-0.469403</td>\n",
              "      <td>-0.282496</td>\n",
              "      <td>0.866077</td>\n",
              "      <td>-0.433466</td>\n",
              "      <td>5.91</td>\n",
              "    </tr>\n",
              "    <tr>\n",
              "      <th>711</th>\n",
              "      <td>43385.0</td>\n",
              "      <td>-0.582934</td>\n",
              "      <td>-0.042738</td>\n",
              "      <td>2.094346</td>\n",
              "      <td>0.114737</td>\n",
              "      <td>-0.236308</td>\n",
              "      <td>2.609668</td>\n",
              "      <td>-0.437218</td>\n",
              "      <td>0.913229</td>\n",
              "      <td>0.059632</td>\n",
              "      <td>-0.505634</td>\n",
              "      <td>1.584034</td>\n",
              "      <td>0.556658</td>\n",
              "      <td>-0.733033</td>\n",
              "      <td>0.025057</td>\n",
              "      <td>1.536398</td>\n",
              "      <td>-1.508361</td>\n",
              "      <td>1.438828</td>\n",
              "      <td>-1.228913</td>\n",
              "      <td>0.900699</td>\n",
              "      <td>0.222600</td>\n",
              "      <td>0.157407</td>\n",
              "      <td>0.634584</td>\n",
              "      <td>0.152786</td>\n",
              "      <td>-1.281873</td>\n",
              "      <td>-0.784080</td>\n",
              "      <td>1.352501</td>\n",
              "      <td>0.128831</td>\n",
              "      <td>0.089368</td>\n",
              "      <td>84.95</td>\n",
              "    </tr>\n",
              "    <tr>\n",
              "      <th>31</th>\n",
              "      <td>12095.0</td>\n",
              "      <td>-4.727713</td>\n",
              "      <td>3.044469</td>\n",
              "      <td>-5.598354</td>\n",
              "      <td>5.928191</td>\n",
              "      <td>-2.190770</td>\n",
              "      <td>-1.529323</td>\n",
              "      <td>-4.487422</td>\n",
              "      <td>0.916392</td>\n",
              "      <td>-1.307010</td>\n",
              "      <td>-4.138891</td>\n",
              "      <td>5.149409</td>\n",
              "      <td>-11.124019</td>\n",
              "      <td>0.543068</td>\n",
              "      <td>-7.840942</td>\n",
              "      <td>0.743634</td>\n",
              "      <td>-6.777069</td>\n",
              "      <td>-9.931765</td>\n",
              "      <td>-4.093021</td>\n",
              "      <td>1.504925</td>\n",
              "      <td>-0.207759</td>\n",
              "      <td>0.650988</td>\n",
              "      <td>0.254983</td>\n",
              "      <td>0.628843</td>\n",
              "      <td>-0.238128</td>\n",
              "      <td>-0.671332</td>\n",
              "      <td>-0.033590</td>\n",
              "      <td>-1.331777</td>\n",
              "      <td>0.705698</td>\n",
              "      <td>30.39</td>\n",
              "    </tr>\n",
              "    <tr>\n",
              "      <th>882</th>\n",
              "      <td>44488.0</td>\n",
              "      <td>-1.454811</td>\n",
              "      <td>-1.052264</td>\n",
              "      <td>2.311733</td>\n",
              "      <td>-1.458502</td>\n",
              "      <td>0.576112</td>\n",
              "      <td>0.440370</td>\n",
              "      <td>0.252407</td>\n",
              "      <td>0.096408</td>\n",
              "      <td>1.075457</td>\n",
              "      <td>-0.733948</td>\n",
              "      <td>1.053872</td>\n",
              "      <td>0.664156</td>\n",
              "      <td>-1.107851</td>\n",
              "      <td>-0.793832</td>\n",
              "      <td>-1.580862</td>\n",
              "      <td>-0.080997</td>\n",
              "      <td>-0.377294</td>\n",
              "      <td>-1.017536</td>\n",
              "      <td>-1.522677</td>\n",
              "      <td>-0.100353</td>\n",
              "      <td>-0.093414</td>\n",
              "      <td>0.085396</td>\n",
              "      <td>0.187745</td>\n",
              "      <td>-0.257536</td>\n",
              "      <td>-0.620900</td>\n",
              "      <td>0.551501</td>\n",
              "      <td>-0.420584</td>\n",
              "      <td>-0.203328</td>\n",
              "      <td>96.38</td>\n",
              "    </tr>\n",
              "    <tr>\n",
              "      <th>563</th>\n",
              "      <td>158635.0</td>\n",
              "      <td>1.691778</td>\n",
              "      <td>0.011653</td>\n",
              "      <td>0.058895</td>\n",
              "      <td>3.531560</td>\n",
              "      <td>0.478280</td>\n",
              "      <td>2.305874</td>\n",
              "      <td>-0.885919</td>\n",
              "      <td>0.726144</td>\n",
              "      <td>-0.490300</td>\n",
              "      <td>1.399589</td>\n",
              "      <td>0.649775</td>\n",
              "      <td>0.616993</td>\n",
              "      <td>-0.021363</td>\n",
              "      <td>-0.005074</td>\n",
              "      <td>-0.436516</td>\n",
              "      <td>0.547790</td>\n",
              "      <td>-0.404577</td>\n",
              "      <td>-0.733645</td>\n",
              "      <td>-2.498614</td>\n",
              "      <td>-0.344119</td>\n",
              "      <td>0.349102</td>\n",
              "      <td>1.192061</td>\n",
              "      <td>0.177918</td>\n",
              "      <td>-1.429752</td>\n",
              "      <td>-0.405193</td>\n",
              "      <td>0.187501</td>\n",
              "      <td>0.063644</td>\n",
              "      <td>-0.055564</td>\n",
              "      <td>15.16</td>\n",
              "    </tr>\n",
              "  </tbody>\n",
              "</table>\n",
              "<p>787 rows × 30 columns</p>\n",
              "</div>"
            ],
            "text/plain": [
              "         Time         V1        V2  ...       V27       V28  Amount\n",
              "845  169750.0   1.494712 -0.943940  ... -0.069929 -0.004823  301.83\n",
              "898   43773.0   1.083154 -0.258436  ...  0.008699 -0.000611   90.75\n",
              "45    18399.0 -14.474437  6.503185  ...  2.706566 -0.992916    1.00\n",
              "536  146135.0  -3.619045 -4.020710  ... -0.092176  0.131153   30.10\n",
              "739  131233.0  -1.015938  1.023279  ...  0.103646  0.161816   57.04\n",
              "..        ...        ...       ...  ...       ...       ...     ...\n",
              "202   59840.0  -3.215382 -0.364223  ...  0.866077 -0.433466    5.91\n",
              "711   43385.0  -0.582934 -0.042738  ...  0.128831  0.089368   84.95\n",
              "31    12095.0  -4.727713  3.044469  ... -1.331777  0.705698   30.39\n",
              "882   44488.0  -1.454811 -1.052264  ... -0.420584 -0.203328   96.38\n",
              "563  158635.0   1.691778  0.011653  ...  0.063644 -0.055564   15.16\n",
              "\n",
              "[787 rows x 30 columns]"
            ]
          },
          "metadata": {
            "tags": []
          },
          "execution_count": 17
        }
      ]
    },
    {
      "cell_type": "code",
      "metadata": {
        "id": "MrDVIZPZqG2o",
        "colab_type": "code",
        "colab": {}
      },
      "source": [
        "# Normalize the x-train and x_test in scaling them\n",
        "scaler = StandardScaler()\n",
        "x_train = scaler.fit_transform(x_train)\n",
        "x_test = scaler.transform(x_test)"
      ],
      "execution_count": null,
      "outputs": []
    },
    {
      "cell_type": "code",
      "metadata": {
        "id": "zh7QG4EGqGy3",
        "colab_type": "code",
        "colab": {
          "base_uri": "https://localhost:8080/",
          "height": 238
        },
        "outputId": "3034caef-b91c-4615-e84f-7aa8348609b8"
      },
      "source": [
        "x_train"
      ],
      "execution_count": null,
      "outputs": [
        {
          "output_type": "execute_result",
          "data": {
            "text/plain": [
              "array([[ 1.72349185,  0.69207891, -0.72884406, ..., -0.15776272,\n",
              "        -0.10091203,  0.86878621],\n",
              "       [-0.90648631,  0.61965556, -0.54914196, ..., -0.08245582,\n",
              "        -0.0910104 , -0.04903925],\n",
              "       [-1.43621051, -2.11806836,  1.22338689, ...,  2.5014478 ,\n",
              "        -2.4236234 , -0.43929335],\n",
              "       ...,\n",
              "       [-1.56781693, -0.40290302,  0.31669991, ..., -1.36630785,\n",
              "         1.56930998, -0.31149872],\n",
              "       [-0.8915595 ,  0.17304092, -0.75724046, ..., -0.49360505,\n",
              "        -0.5675387 , -0.02455869],\n",
              "       [ 1.49144785,  0.72675727, -0.4783394 , ..., -0.02983206,\n",
              "        -0.2201892 , -0.37772234]])"
            ]
          },
          "metadata": {
            "tags": []
          },
          "execution_count": 19
        }
      ]
    },
    {
      "cell_type": "code",
      "metadata": {
        "id": "gmGSe4aOqGu-",
        "colab_type": "code",
        "colab": {}
      },
      "source": [
        "# Convert the y_train and y_test datasets into numpy\n",
        "y_train = y_train.to_numpy()\n",
        "y_test = y_test.to_numpy()"
      ],
      "execution_count": null,
      "outputs": []
    },
    {
      "cell_type": "code",
      "metadata": {
        "id": "IaPPWNig_bgZ",
        "colab_type": "code",
        "colab": {
          "base_uri": "https://localhost:8080/",
          "height": 34
        },
        "outputId": "5c4b2c33-1106-4e6d-b2af-f032adbaf52e"
      },
      "source": [
        "x_train.shape"
      ],
      "execution_count": null,
      "outputs": [
        {
          "output_type": "execute_result",
          "data": {
            "text/plain": [
              "(787, 30)"
            ]
          },
          "metadata": {
            "tags": []
          },
          "execution_count": 21
        }
      ]
    },
    {
      "cell_type": "code",
      "metadata": {
        "id": "lPNhNXif_Gx7",
        "colab_type": "code",
        "colab": {}
      },
      "source": [
        "# Reshape  the x_train into 3 dimensions for it is in 2 dimensions\n",
        "x_train = x_train.reshape(x_train.shape[0], x_train.shape[1], 1)\n",
        "x_test = x_test.reshape(x_test.shape[0], x_test.shape[1], 1)"
      ],
      "execution_count": null,
      "outputs": []
    },
    {
      "cell_type": "code",
      "metadata": {
        "id": "YbQeLMsxAJdU",
        "colab_type": "code",
        "colab": {
          "base_uri": "https://localhost:8080/",
          "height": 34
        },
        "outputId": "ae896900-e581-46d5-a0ef-84623cd8f138"
      },
      "source": [
        "x_train.shape"
      ],
      "execution_count": null,
      "outputs": [
        {
          "output_type": "execute_result",
          "data": {
            "text/plain": [
              "(787, 30, 1)"
            ]
          },
          "metadata": {
            "tags": []
          },
          "execution_count": 23
        }
      ]
    },
    {
      "cell_type": "code",
      "metadata": {
        "id": "89VZZnqgAM6h",
        "colab_type": "code",
        "colab": {
          "base_uri": "https://localhost:8080/",
          "height": 34
        },
        "outputId": "7b9cfb92-6e96-465f-c8ce-53fb996d526b"
      },
      "source": [
        "x_test.shape"
      ],
      "execution_count": null,
      "outputs": [
        {
          "output_type": "execute_result",
          "data": {
            "text/plain": [
              "(197, 30, 1)"
            ]
          },
          "metadata": {
            "tags": []
          },
          "execution_count": 24
        }
      ]
    },
    {
      "cell_type": "markdown",
      "metadata": {
        "id": "kjJ0tgcCAT94",
        "colab_type": "text"
      },
      "source": [
        "**Building the CNN Model**"
      ]
    },
    {
      "cell_type": "code",
      "metadata": {
        "id": "iLp_dIbEARBK",
        "colab_type": "code",
        "colab": {}
      },
      "source": [
        "Epochs = 20\n",
        "model = Sequential()\n",
        "model.add(Conv1D(filters=32, kernel_size=2, activation=\"relu\", \n",
        "                 input_shape= x_train[0].shape))\n",
        "model.add(BatchNormalization())\n",
        "model.add(Dropout(0.2))\n",
        "\n",
        "model.add(Conv1D(filters=64, kernel_size=2, activation=\"relu\"))\n",
        "model.add(BatchNormalization())\n",
        "model.add(Dropout(0.5))\n",
        "\n",
        "model.add(Flatten())\n",
        "model.add(Dense(64, activation=\"relu\"))\n",
        "model.add(Dropout(0.5))\n",
        "\n",
        "model.add(Dense(1, activation=\"sigmoid\"))"
      ],
      "execution_count": null,
      "outputs": []
    },
    {
      "cell_type": "code",
      "metadata": {
        "id": "-77zuWsMATO5",
        "colab_type": "code",
        "colab": {
          "base_uri": "https://localhost:8080/",
          "height": 493
        },
        "outputId": "90aac6d1-9ace-4723-f3b1-dd96c0ae095e"
      },
      "source": [
        "model.summary()"
      ],
      "execution_count": null,
      "outputs": [
        {
          "output_type": "stream",
          "text": [
            "Model: \"sequential\"\n",
            "_________________________________________________________________\n",
            "Layer (type)                 Output Shape              Param #   \n",
            "=================================================================\n",
            "conv1d (Conv1D)              (None, 29, 32)            96        \n",
            "_________________________________________________________________\n",
            "batch_normalization (BatchNo (None, 29, 32)            128       \n",
            "_________________________________________________________________\n",
            "dropout (Dropout)            (None, 29, 32)            0         \n",
            "_________________________________________________________________\n",
            "conv1d_1 (Conv1D)            (None, 28, 64)            4160      \n",
            "_________________________________________________________________\n",
            "batch_normalization_1 (Batch (None, 28, 64)            256       \n",
            "_________________________________________________________________\n",
            "dropout_1 (Dropout)          (None, 28, 64)            0         \n",
            "_________________________________________________________________\n",
            "flatten (Flatten)            (None, 1792)              0         \n",
            "_________________________________________________________________\n",
            "dense (Dense)                (None, 64)                114752    \n",
            "_________________________________________________________________\n",
            "dropout_2 (Dropout)          (None, 64)                0         \n",
            "_________________________________________________________________\n",
            "dense_1 (Dense)              (None, 1)                 65        \n",
            "=================================================================\n",
            "Total params: 119,457\n",
            "Trainable params: 119,265\n",
            "Non-trainable params: 192\n",
            "_________________________________________________________________\n"
          ],
          "name": "stdout"
        }
      ]
    },
    {
      "cell_type": "code",
      "metadata": {
        "id": "UtTNNrl5ATMZ",
        "colab_type": "code",
        "colab": {}
      },
      "source": [
        "# Compile the model"
      ],
      "execution_count": null,
      "outputs": []
    },
    {
      "cell_type": "code",
      "metadata": {
        "id": "2eHGrcfcATIj",
        "colab_type": "code",
        "colab": {}
      },
      "source": [
        "model.compile(optimizer=\"adam\", loss=\"binary_crossentropy\",\n",
        "              metrics=[\"accuracy\"])"
      ],
      "execution_count": null,
      "outputs": []
    },
    {
      "cell_type": "code",
      "metadata": {
        "id": "KbFxJTGfATGL",
        "colab_type": "code",
        "colab": {
          "base_uri": "https://localhost:8080/",
          "height": 717
        },
        "outputId": "893792f0-41d2-4af0-98db-76593d9920ef"
      },
      "source": [
        "history = model.fit(x_train, y_train, epochs=Epochs,\n",
        "                    validation_data=(x_test, y_test), verbose=1)"
      ],
      "execution_count": null,
      "outputs": [
        {
          "output_type": "stream",
          "text": [
            "Epoch 1/20\n",
            "25/25 [==============================] - 0s 16ms/step - loss: 0.5419 - accuracy: 0.8412 - val_loss: 0.4960 - val_accuracy: 0.8782\n",
            "Epoch 2/20\n",
            "25/25 [==============================] - 0s 8ms/step - loss: 0.2235 - accuracy: 0.9250 - val_loss: 0.4580 - val_accuracy: 0.8629\n",
            "Epoch 3/20\n",
            "25/25 [==============================] - 0s 8ms/step - loss: 0.2279 - accuracy: 0.9225 - val_loss: 0.4639 - val_accuracy: 0.6548\n",
            "Epoch 4/20\n",
            "25/25 [==============================] - 0s 8ms/step - loss: 0.2039 - accuracy: 0.9365 - val_loss: 0.4463 - val_accuracy: 0.6802\n",
            "Epoch 5/20\n",
            "25/25 [==============================] - 0s 8ms/step - loss: 0.1911 - accuracy: 0.9428 - val_loss: 0.4603 - val_accuracy: 0.6244\n",
            "Epoch 6/20\n",
            "25/25 [==============================] - 0s 8ms/step - loss: 0.1581 - accuracy: 0.9416 - val_loss: 0.4730 - val_accuracy: 0.6244\n",
            "Epoch 7/20\n",
            "25/25 [==============================] - 0s 7ms/step - loss: 0.1524 - accuracy: 0.9454 - val_loss: 0.4844 - val_accuracy: 0.5939\n",
            "Epoch 8/20\n",
            "25/25 [==============================] - 0s 7ms/step - loss: 0.1412 - accuracy: 0.9428 - val_loss: 0.3521 - val_accuracy: 0.8680\n",
            "Epoch 9/20\n",
            "25/25 [==============================] - 0s 7ms/step - loss: 0.1525 - accuracy: 0.9454 - val_loss: 0.3715 - val_accuracy: 0.7919\n",
            "Epoch 10/20\n",
            "25/25 [==============================] - 0s 8ms/step - loss: 0.1300 - accuracy: 0.9466 - val_loss: 0.3453 - val_accuracy: 0.8274\n",
            "Epoch 11/20\n",
            "25/25 [==============================] - 0s 8ms/step - loss: 0.1309 - accuracy: 0.9466 - val_loss: 0.2940 - val_accuracy: 0.8883\n",
            "Epoch 12/20\n",
            "25/25 [==============================] - 0s 7ms/step - loss: 0.1232 - accuracy: 0.9632 - val_loss: 0.3769 - val_accuracy: 0.8071\n",
            "Epoch 13/20\n",
            "25/25 [==============================] - 0s 8ms/step - loss: 0.1366 - accuracy: 0.9428 - val_loss: 0.2371 - val_accuracy: 0.9239\n",
            "Epoch 14/20\n",
            "25/25 [==============================] - 0s 8ms/step - loss: 0.1098 - accuracy: 0.9632 - val_loss: 0.2390 - val_accuracy: 0.9239\n",
            "Epoch 15/20\n",
            "25/25 [==============================] - 0s 7ms/step - loss: 0.1290 - accuracy: 0.9568 - val_loss: 0.2000 - val_accuracy: 0.9188\n",
            "Epoch 16/20\n",
            "25/25 [==============================] - 0s 7ms/step - loss: 0.1045 - accuracy: 0.9632 - val_loss: 0.2310 - val_accuracy: 0.9239\n",
            "Epoch 17/20\n",
            "25/25 [==============================] - 0s 7ms/step - loss: 0.1136 - accuracy: 0.9568 - val_loss: 0.2040 - val_accuracy: 0.9137\n",
            "Epoch 18/20\n",
            "25/25 [==============================] - 0s 8ms/step - loss: 0.1207 - accuracy: 0.9619 - val_loss: 0.2373 - val_accuracy: 0.9340\n",
            "Epoch 19/20\n",
            "25/25 [==============================] - 0s 7ms/step - loss: 0.1381 - accuracy: 0.9492 - val_loss: 0.1988 - val_accuracy: 0.9239\n",
            "Epoch 20/20\n",
            "25/25 [==============================] - 0s 7ms/step - loss: 0.1187 - accuracy: 0.9581 - val_loss: 0.2032 - val_accuracy: 0.9239\n"
          ],
          "name": "stdout"
        }
      ]
    },
    {
      "cell_type": "code",
      "metadata": {
        "id": "_hrPh4iaATB3",
        "colab_type": "code",
        "colab": {}
      },
      "source": [
        "def plot_learning_curve(history, epoch):\n",
        "  # Plot training validation and accuracy values\n",
        "  epoch_range = range(1, epoch+1)\n",
        "  plt.plot(epoch_range, history.history[\"accuracy\"])\n",
        "  plt.plot(epoch_range, history.history[\"val-accuracy\"])\n",
        "  plt.title(\"Model Accuracy\")\n",
        "  plt.ylabel(\"Accuracy\")\n",
        "  plt.xlabel(\"Epochs\")\n",
        "  plt.legend([\"Train\", \"Val\"], loc=\"upper left\")\n",
        "  plt.show()\n",
        "\n",
        "  # Plot training validation and loss values\n",
        "  epoch_range = range(1, epoch+1)\n",
        "  plt.plot(epoch_range, history.history[\"loss\"])\n",
        "  plt.plot(epoch_range, history.history[\"val-loss\"])\n",
        "  plt.title(\"Model Loss\")\n",
        "  plt.ylabel(\"Loss\")\n",
        "  plt.xlabel(\"Epochs\")\n",
        "  plt.legend([\"Train\", \"Val\"], loc=\"upper left\")\n",
        "  plt.show()"
      ],
      "execution_count": null,
      "outputs": []
    },
    {
      "cell_type": "code",
      "metadata": {
        "id": "OR2YLRjWGQ2O",
        "colab_type": "code",
        "colab": {
          "base_uri": "https://localhost:8080/",
          "height": 565
        },
        "outputId": "7c425f2e-bb54-4caf-f819-883ae4b9c72a"
      },
      "source": [
        "plot_learning_curve(history, Epochs)"
      ],
      "execution_count": null,
      "outputs": [
        {
          "output_type": "error",
          "ename": "KeyError",
          "evalue": "ignored",
          "traceback": [
            "\u001b[0;31m---------------------------------------------------------------------------\u001b[0m",
            "\u001b[0;31mKeyError\u001b[0m                                  Traceback (most recent call last)",
            "\u001b[0;32m<ipython-input-31-13f11862e1b2>\u001b[0m in \u001b[0;36m<module>\u001b[0;34m()\u001b[0m\n\u001b[0;32m----> 1\u001b[0;31m \u001b[0mplot_learning_curve\u001b[0m\u001b[0;34m(\u001b[0m\u001b[0mhistory\u001b[0m\u001b[0;34m,\u001b[0m \u001b[0mEpochs\u001b[0m\u001b[0;34m)\u001b[0m\u001b[0;34m\u001b[0m\u001b[0;34m\u001b[0m\u001b[0m\n\u001b[0m",
            "\u001b[0;32m<ipython-input-30-8722548f0437>\u001b[0m in \u001b[0;36mplot_learning_curve\u001b[0;34m(history, epoch)\u001b[0m\n\u001b[1;32m      3\u001b[0m   \u001b[0mepoch_range\u001b[0m \u001b[0;34m=\u001b[0m \u001b[0mrange\u001b[0m\u001b[0;34m(\u001b[0m\u001b[0;36m1\u001b[0m\u001b[0;34m,\u001b[0m \u001b[0mepoch\u001b[0m\u001b[0;34m+\u001b[0m\u001b[0;36m1\u001b[0m\u001b[0;34m)\u001b[0m\u001b[0;34m\u001b[0m\u001b[0;34m\u001b[0m\u001b[0m\n\u001b[1;32m      4\u001b[0m   \u001b[0mplt\u001b[0m\u001b[0;34m.\u001b[0m\u001b[0mplot\u001b[0m\u001b[0;34m(\u001b[0m\u001b[0mepoch_range\u001b[0m\u001b[0;34m,\u001b[0m \u001b[0mhistory\u001b[0m\u001b[0;34m.\u001b[0m\u001b[0mhistory\u001b[0m\u001b[0;34m[\u001b[0m\u001b[0;34m\"accuracy\"\u001b[0m\u001b[0;34m]\u001b[0m\u001b[0;34m)\u001b[0m\u001b[0;34m\u001b[0m\u001b[0;34m\u001b[0m\u001b[0m\n\u001b[0;32m----> 5\u001b[0;31m   \u001b[0mplt\u001b[0m\u001b[0;34m.\u001b[0m\u001b[0mplot\u001b[0m\u001b[0;34m(\u001b[0m\u001b[0mepoch_range\u001b[0m\u001b[0;34m,\u001b[0m \u001b[0mhistory\u001b[0m\u001b[0;34m.\u001b[0m\u001b[0mhistory\u001b[0m\u001b[0;34m[\u001b[0m\u001b[0;34m\"val-accuracy\"\u001b[0m\u001b[0;34m]\u001b[0m\u001b[0;34m)\u001b[0m\u001b[0;34m\u001b[0m\u001b[0;34m\u001b[0m\u001b[0m\n\u001b[0m\u001b[1;32m      6\u001b[0m   \u001b[0mplt\u001b[0m\u001b[0;34m.\u001b[0m\u001b[0mtitle\u001b[0m\u001b[0;34m(\u001b[0m\u001b[0;34m\"Model Accuracy\"\u001b[0m\u001b[0;34m)\u001b[0m\u001b[0;34m\u001b[0m\u001b[0;34m\u001b[0m\u001b[0m\n\u001b[1;32m      7\u001b[0m   \u001b[0mplt\u001b[0m\u001b[0;34m.\u001b[0m\u001b[0mylabel\u001b[0m\u001b[0;34m(\u001b[0m\u001b[0;34m\"Accuracy\"\u001b[0m\u001b[0;34m)\u001b[0m\u001b[0;34m\u001b[0m\u001b[0;34m\u001b[0m\u001b[0m\n",
            "\u001b[0;31mKeyError\u001b[0m: 'val-accuracy'"
          ]
        },
        {
          "output_type": "display_data",
          "data": {
            "image/png": "[encoded data removed]",
            "text/plain": [
              "<Figure size 432x288 with 1 Axes>"
            ]
          },
          "metadata": {
            "tags": [],
            "needs_background": "light"
          }
        }
      ]
    },
    {
      "cell_type": "code",
      "metadata": {
        "id": "wI39nLy1GQvW",
        "colab_type": "code",
        "colab": {}
      },
      "source": [
        ""
      ],
      "execution_count": null,
      "outputs": []
    },
    {
      "cell_type": "code",
      "metadata": {
        "id": "BMXpyJ0IATWc",
        "colab_type": "code",
        "colab": {}
      },
      "source": [
        "Epochs = 30\n",
        "model = Sequential()\n",
        "model.add(Conv1D(32, 2, activation=\"relu\",\n",
        "                 input_shape= x_train[0].shape))\n",
        "model.add(BatchNormalization())\n",
        "model.add(MaxPool1D(2))\n",
        "model.add(Dropout(0.2))\n",
        "\n",
        "model.add(Conv1D(64, 2, activation=\"relu\"))\n",
        "model.add(BatchNormalization())\n",
        "model.add(MaxPool1D(2))\n",
        "model.add(Dropout(0.5))\n",
        "\n",
        "model.add(Flatten())\n",
        "model.add(Dense(64, activation=\"relu\"))\n",
        "model.add(Dropout(0.5))\n",
        "\n",
        "model.add(Dense(1, activation=\"sigmoid\"))"
      ],
      "execution_count": null,
      "outputs": []
    },
    {
      "cell_type": "code",
      "metadata": {
        "id": "M2jUcuNaGQc4",
        "colab_type": "code",
        "colab": {}
      },
      "source": [
        "model.summary()"
      ],
      "execution_count": null,
      "outputs": []
    },
    {
      "cell_type": "code",
      "metadata": {
        "id": "IPZP0ttYGQmM",
        "colab_type": "code",
        "colab": {}
      },
      "source": [
        "model.compile(optimizer=\"adam\", loss=\"binary_crossentropy\",\n",
        "              metrics=[\"accuracy\"])"
      ],
      "execution_count": null,
      "outputs": []
    },
    {
      "cell_type": "code",
      "metadata": {
        "id": "4pxbS5BVJd95",
        "colab_type": "code",
        "colab": {}
      },
      "source": [
        "history = model.fit(x_train, y_train, epochs=Epochs,\n",
        "                    validation_data=(x_test, y_test), verbose=1)"
      ],
      "execution_count": null,
      "outputs": []
    },
    {
      "cell_type": "code",
      "metadata": {
        "id": "Qf4aXqnxJdzO",
        "colab_type": "code",
        "colab": {}
      },
      "source": [
        "plot_learning_curve(history, Epochs)"
      ],
      "execution_count": null,
      "outputs": []
    },
    {
      "cell_type": "code",
      "metadata": {
        "id": "qPExZDjMKPkW",
        "colab_type": "code",
        "colab": {}
      },
      "source": [
        ""
      ],
      "execution_count": null,
      "outputs": []
    }
  ]
}